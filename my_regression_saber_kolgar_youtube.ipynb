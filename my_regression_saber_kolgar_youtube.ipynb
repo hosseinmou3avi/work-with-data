{
  "nbformat": 4,
  "nbformat_minor": 0,
  "metadata": {
    "colab": {
      "provenance": [],
      "authorship_tag": "ABX9TyMcZRRQpAsck50ViTjWQ++3",
      "include_colab_link": true
    },
    "kernelspec": {
      "name": "python3",
      "display_name": "Python 3"
    },
    "language_info": {
      "name": "python"
    }
  },
  "cells": [
    {
      "cell_type": "markdown",
      "metadata": {
        "id": "view-in-github",
        "colab_type": "text"
      },
      "source": [
        "<a href=\"https://colab.research.google.com/github/hosseinmou3avi/work-with-data/blob/main/my_regression_saber_kolgar_youtube.ipynb\" target=\"_parent\"><img src=\"https://colab.research.google.com/assets/colab-badge.svg\" alt=\"Open In Colab\"/></a>"
      ]
    },
    {
      "cell_type": "code",
      "execution_count": null,
      "metadata": {
        "id": "oWxBR5lURpzS"
      },
      "outputs": [],
      "source": []
    },
    {
      "cell_type": "code",
      "source": [
        "# prompt: connect to github\n",
        "\n",
        "!git clone https://github.com/<username>/<repository_name>.git\n"
      ],
      "metadata": {
        "id": "QdAvm3uBR-wk"
      },
      "execution_count": null,
      "outputs": []
    },
    {
      "cell_type": "code",
      "source": [
        "!git clone https://github.com/hosseinmou3avi/work-with-data.git"
      ],
      "metadata": {
        "colab": {
          "base_uri": "https://localhost:8080/"
        },
        "id": "WvDtU2cvTkWe",
        "outputId": "28da8c70-10ff-4b1a-96da-f69b241100cf"
      },
      "execution_count": 2,
      "outputs": [
        {
          "output_type": "stream",
          "name": "stdout",
          "text": [
            "Cloning into 'work-with-data'...\n",
            "remote: Enumerating objects: 8, done.\u001b[K\n",
            "remote: Counting objects: 100% (8/8), done.\u001b[K\n",
            "remote: Compressing objects: 100% (6/6), done.\u001b[K\n",
            "remote: Total 8 (delta 1), reused 0 (delta 0), pack-reused 0\u001b[K\n",
            "Receiving objects: 100% (8/8), 185.21 KiB | 3.09 MiB/s, done.\n",
            "Resolving deltas: 100% (1/1), done.\n"
          ]
        }
      ]
    },
    {
      "cell_type": "code",
      "source": [
        "import numpy as np\n",
        "import matplotlib.pyplot as plt\n",
        "from sklearn.datasets import make_regression"
      ],
      "metadata": {
        "id": "F8SuGp4RULuk"
      },
      "execution_count": 3,
      "outputs": []
    },
    {
      "cell_type": "code",
      "source": [
        "data=make_regression(n_samples=1000,n_features=5,noise=0.2,random_state=42)"
      ],
      "metadata": {
        "id": "wkBDxTFZUqKN"
      },
      "execution_count": 4,
      "outputs": []
    },
    {
      "cell_type": "code",
      "source": [
        "data[0].shape"
      ],
      "metadata": {
        "colab": {
          "base_uri": "https://localhost:8080/"
        },
        "id": "3hF2Y3YMU-EH",
        "outputId": "88d2fc7c-0e3e-4d93-afbf-81adad9169c6"
      },
      "execution_count": 7,
      "outputs": [
        {
          "output_type": "execute_result",
          "data": {
            "text/plain": [
              "(1000, 5)"
            ]
          },
          "metadata": {},
          "execution_count": 7
        }
      ]
    },
    {
      "cell_type": "code",
      "source": [
        "data[1].shape\n"
      ],
      "metadata": {
        "colab": {
          "base_uri": "https://localhost:8080/"
        },
        "id": "NdLASb4PU8c0",
        "outputId": "810f1d0f-5f91-475d-d40a-975abfa703c1"
      },
      "execution_count": 8,
      "outputs": [
        {
          "output_type": "execute_result",
          "data": {
            "text/plain": [
              "(1000,)"
            ]
          },
          "metadata": {},
          "execution_count": 8
        }
      ]
    },
    {
      "cell_type": "code",
      "source": [
        "x=data[0]\n",
        "y=data[1]\n"
      ],
      "metadata": {
        "id": "dE6Ci5LAVKoI"
      },
      "execution_count": 9,
      "outputs": []
    },
    {
      "cell_type": "code",
      "source": [
        "x[0]"
      ],
      "metadata": {
        "colab": {
          "base_uri": "https://localhost:8080/"
        },
        "id": "zPGpzRZtXRi5",
        "outputId": "c20001e9-b711-4aea-e19e-c4bed55f215c"
      },
      "execution_count": 10,
      "outputs": [
        {
          "output_type": "execute_result",
          "data": {
            "text/plain": [
              "array([ 2.05654356,  0.60685059,  0.48268789, -1.13088844,  0.42009449])"
            ]
          },
          "metadata": {},
          "execution_count": 10
        }
      ]
    },
    {
      "cell_type": "code",
      "source": [
        "y[0]"
      ],
      "metadata": {
        "colab": {
          "base_uri": "https://localhost:8080/"
        },
        "id": "SxWelX9BXTVY",
        "outputId": "aa32600d-ed3a-4101-dae9-d7c7b5b2f5c5"
      },
      "execution_count": 11,
      "outputs": [
        {
          "output_type": "execute_result",
          "data": {
            "text/plain": [
              "74.8638525346159"
            ]
          },
          "metadata": {},
          "execution_count": 11
        }
      ]
    },
    {
      "cell_type": "code",
      "source": [
        "from sklearn.preprocessing import StandardScaler"
      ],
      "metadata": {
        "id": "bkJgYNTbXWUV"
      },
      "execution_count": 12,
      "outputs": []
    },
    {
      "cell_type": "code",
      "source": [
        "scaler =StandardScaler()\n",
        "x=scaler.fit_transform(x)"
      ],
      "metadata": {
        "id": "bRm7c2BuXevK"
      },
      "execution_count": 15,
      "outputs": []
    },
    {
      "cell_type": "code",
      "source": [
        "from sklearn.model_selection import train_test_split"
      ],
      "metadata": {
        "id": "kOV-hQBhYGbR"
      },
      "execution_count": 17,
      "outputs": []
    },
    {
      "cell_type": "code",
      "source": [
        "x_train,x_test,y_train,y_test = train_test_split(x,y,test_size=0.2)\n",
        "x_train.shape\n",
        "y_train.shape"
      ],
      "metadata": {
        "colab": {
          "base_uri": "https://localhost:8080/"
        },
        "id": "esbt5r_sXsWN",
        "outputId": "d3797485-b00c-4d4c-dc94-f9348bc746ca"
      },
      "execution_count": 20,
      "outputs": [
        {
          "output_type": "execute_result",
          "data": {
            "text/plain": [
              "(800,)"
            ]
          },
          "metadata": {},
          "execution_count": 20
        }
      ]
    },
    {
      "cell_type": "code",
      "source": [
        "import tensorflow as tf\n",
        "\n"
      ],
      "metadata": {
        "id": "hudQ8T_tX-4i"
      },
      "execution_count": 21,
      "outputs": []
    },
    {
      "cell_type": "code",
      "source": [
        "model= tf.keras.models.Sequential()\n",
        "model.add(tf.keras.layers.Input(shape=(5,)))\n",
        "model.add(tf.keras.layers.Dense(units=16,activation='relu' ))\n",
        "model.add(tf.keras.layers.Dense(units=16,activation='relu' ))\n",
        "model.add(tf.keras.layers.Dense(units=1,activation='linear' ))\n",
        "\n",
        "model.summary()"
      ],
      "metadata": {
        "colab": {
          "base_uri": "https://localhost:8080/"
        },
        "id": "ncDStaWOYjSy",
        "outputId": "602fc182-2e14-469a-e14b-01ee9eee239b"
      },
      "execution_count": 23,
      "outputs": [
        {
          "output_type": "stream",
          "name": "stdout",
          "text": [
            "Model: \"sequential_1\"\n",
            "_________________________________________________________________\n",
            " Layer (type)                Output Shape              Param #   \n",
            "=================================================================\n",
            " dense (Dense)               (None, 16)                96        \n",
            "                                                                 \n",
            " dense_1 (Dense)             (None, 16)                272       \n",
            "                                                                 \n",
            " dense_2 (Dense)             (None, 1)                 17        \n",
            "                                                                 \n",
            "=================================================================\n",
            "Total params: 385 (1.50 KB)\n",
            "Trainable params: 385 (1.50 KB)\n",
            "Non-trainable params: 0 (0.00 Byte)\n",
            "_________________________________________________________________\n"
          ]
        }
      ]
    },
    {
      "cell_type": "code",
      "source": [
        "opt=tf.optimizers.Adam()\n",
        "loss=tf.losses.MeanSquaredError()\n",
        "\n",
        "model.compile(loss=loss,optimizer=opt)\n",
        "\n"
      ],
      "metadata": {
        "id": "gDQTlFRUYqDo"
      },
      "execution_count": 27,
      "outputs": []
    },
    {
      "cell_type": "code",
      "source": [
        "model.fit(x_train,y_train,epochs=100,batch_size=50,validation_split=0.1,verbose=2)"
      ],
      "metadata": {
        "colab": {
          "base_uri": "https://localhost:8080/"
        },
        "id": "OXlziqZia3z5",
        "outputId": "cae0d794-deed-4c4c-c44d-9f6204546384"
      },
      "execution_count": 29,
      "outputs": [
        {
          "output_type": "stream",
          "name": "stdout",
          "text": [
            "Epoch 1/100\n",
            "15/15 - 0s - loss: 3478.6091 - val_loss: 4037.6890 - 186ms/epoch - 12ms/step\n",
            "Epoch 2/100\n",
            "15/15 - 0s - loss: 3353.7139 - val_loss: 3880.1499 - 97ms/epoch - 6ms/step\n",
            "Epoch 3/100\n",
            "15/15 - 0s - loss: 3205.1638 - val_loss: 3701.3774 - 98ms/epoch - 7ms/step\n",
            "Epoch 4/100\n",
            "15/15 - 0s - loss: 3038.2178 - val_loss: 3496.2090 - 55ms/epoch - 4ms/step\n",
            "Epoch 5/100\n",
            "15/15 - 0s - loss: 2853.1445 - val_loss: 3270.7876 - 68ms/epoch - 5ms/step\n",
            "Epoch 6/100\n",
            "15/15 - 0s - loss: 2646.0681 - val_loss: 3031.6299 - 51ms/epoch - 3ms/step\n",
            "Epoch 7/100\n",
            "15/15 - 0s - loss: 2426.6865 - val_loss: 2774.0508 - 68ms/epoch - 5ms/step\n",
            "Epoch 8/100\n",
            "15/15 - 0s - loss: 2197.5811 - val_loss: 2502.5933 - 75ms/epoch - 5ms/step\n",
            "Epoch 9/100\n",
            "15/15 - 0s - loss: 1960.7717 - val_loss: 2230.9653 - 58ms/epoch - 4ms/step\n",
            "Epoch 10/100\n",
            "15/15 - 0s - loss: 1719.8759 - val_loss: 1956.5442 - 75ms/epoch - 5ms/step\n",
            "Epoch 11/100\n",
            "15/15 - 0s - loss: 1485.3048 - val_loss: 1689.4460 - 49ms/epoch - 3ms/step\n",
            "Epoch 12/100\n",
            "15/15 - 0s - loss: 1261.3074 - val_loss: 1440.4524 - 50ms/epoch - 3ms/step\n",
            "Epoch 13/100\n",
            "15/15 - 0s - loss: 1055.4965 - val_loss: 1209.4844 - 52ms/epoch - 3ms/step\n",
            "Epoch 14/100\n",
            "15/15 - 0s - loss: 866.5462 - val_loss: 996.6207 - 60ms/epoch - 4ms/step\n",
            "Epoch 15/100\n",
            "15/15 - 0s - loss: 695.0922 - val_loss: 815.8641 - 50ms/epoch - 3ms/step\n",
            "Epoch 16/100\n",
            "15/15 - 0s - loss: 554.7769 - val_loss: 660.2675 - 69ms/epoch - 5ms/step\n",
            "Epoch 17/100\n",
            "15/15 - 0s - loss: 439.6021 - val_loss: 529.5920 - 52ms/epoch - 3ms/step\n",
            "Epoch 18/100\n",
            "15/15 - 0s - loss: 343.8072 - val_loss: 426.2323 - 55ms/epoch - 4ms/step\n",
            "Epoch 19/100\n",
            "15/15 - 0s - loss: 270.5883 - val_loss: 342.4695 - 55ms/epoch - 4ms/step\n",
            "Epoch 20/100\n",
            "15/15 - 0s - loss: 215.2353 - val_loss: 277.4510 - 66ms/epoch - 4ms/step\n",
            "Epoch 21/100\n",
            "15/15 - 0s - loss: 174.3170 - val_loss: 228.0468 - 52ms/epoch - 3ms/step\n",
            "Epoch 22/100\n",
            "15/15 - 0s - loss: 142.8139 - val_loss: 193.0832 - 51ms/epoch - 3ms/step\n",
            "Epoch 23/100\n",
            "15/15 - 0s - loss: 121.6937 - val_loss: 165.5465 - 51ms/epoch - 3ms/step\n",
            "Epoch 24/100\n",
            "15/15 - 0s - loss: 105.2425 - val_loss: 145.5022 - 50ms/epoch - 3ms/step\n",
            "Epoch 25/100\n",
            "15/15 - 0s - loss: 94.2147 - val_loss: 127.5745 - 68ms/epoch - 5ms/step\n",
            "Epoch 26/100\n",
            "15/15 - 0s - loss: 83.8435 - val_loss: 114.3807 - 62ms/epoch - 4ms/step\n",
            "Epoch 27/100\n",
            "15/15 - 0s - loss: 76.2879 - val_loss: 102.9971 - 70ms/epoch - 5ms/step\n",
            "Epoch 28/100\n",
            "15/15 - 0s - loss: 69.5920 - val_loss: 93.8076 - 68ms/epoch - 5ms/step\n",
            "Epoch 29/100\n",
            "15/15 - 0s - loss: 64.2615 - val_loss: 85.6599 - 68ms/epoch - 5ms/step\n",
            "Epoch 30/100\n",
            "15/15 - 0s - loss: 59.4727 - val_loss: 79.0799 - 67ms/epoch - 4ms/step\n",
            "Epoch 31/100\n",
            "15/15 - 0s - loss: 55.5243 - val_loss: 74.0059 - 76ms/epoch - 5ms/step\n",
            "Epoch 32/100\n",
            "15/15 - 0s - loss: 52.3471 - val_loss: 69.7658 - 70ms/epoch - 5ms/step\n",
            "Epoch 33/100\n",
            "15/15 - 0s - loss: 49.8980 - val_loss: 65.9651 - 50ms/epoch - 3ms/step\n",
            "Epoch 34/100\n",
            "15/15 - 0s - loss: 47.4541 - val_loss: 61.7117 - 61ms/epoch - 4ms/step\n",
            "Epoch 35/100\n",
            "15/15 - 0s - loss: 45.2948 - val_loss: 58.9823 - 52ms/epoch - 3ms/step\n",
            "Epoch 36/100\n",
            "15/15 - 0s - loss: 43.4478 - val_loss: 56.7909 - 55ms/epoch - 4ms/step\n",
            "Epoch 37/100\n",
            "15/15 - 0s - loss: 41.8536 - val_loss: 55.0754 - 68ms/epoch - 5ms/step\n",
            "Epoch 38/100\n",
            "15/15 - 0s - loss: 40.6788 - val_loss: 53.1545 - 51ms/epoch - 3ms/step\n",
            "Epoch 39/100\n",
            "15/15 - 0s - loss: 39.5952 - val_loss: 51.8319 - 69ms/epoch - 5ms/step\n",
            "Epoch 40/100\n",
            "15/15 - 0s - loss: 38.7674 - val_loss: 50.6384 - 66ms/epoch - 4ms/step\n",
            "Epoch 41/100\n",
            "15/15 - 0s - loss: 37.8155 - val_loss: 49.7221 - 52ms/epoch - 3ms/step\n",
            "Epoch 42/100\n",
            "15/15 - 0s - loss: 37.2222 - val_loss: 48.1473 - 50ms/epoch - 3ms/step\n",
            "Epoch 43/100\n",
            "15/15 - 0s - loss: 36.4847 - val_loss: 47.6808 - 56ms/epoch - 4ms/step\n",
            "Epoch 44/100\n",
            "15/15 - 0s - loss: 35.9561 - val_loss: 46.9135 - 56ms/epoch - 4ms/step\n",
            "Epoch 45/100\n",
            "15/15 - 0s - loss: 35.4510 - val_loss: 46.3124 - 70ms/epoch - 5ms/step\n",
            "Epoch 46/100\n",
            "15/15 - 0s - loss: 35.1464 - val_loss: 45.5662 - 69ms/epoch - 5ms/step\n",
            "Epoch 47/100\n",
            "15/15 - 0s - loss: 34.7083 - val_loss: 45.7303 - 52ms/epoch - 3ms/step\n",
            "Epoch 48/100\n",
            "15/15 - 0s - loss: 34.4166 - val_loss: 45.1465 - 59ms/epoch - 4ms/step\n",
            "Epoch 49/100\n",
            "15/15 - 0s - loss: 34.1053 - val_loss: 44.9418 - 68ms/epoch - 5ms/step\n",
            "Epoch 50/100\n",
            "15/15 - 0s - loss: 33.9775 - val_loss: 44.2865 - 69ms/epoch - 5ms/step\n",
            "Epoch 51/100\n",
            "15/15 - 0s - loss: 33.4845 - val_loss: 44.0976 - 54ms/epoch - 4ms/step\n",
            "Epoch 52/100\n",
            "15/15 - 0s - loss: 33.4128 - val_loss: 44.0894 - 66ms/epoch - 4ms/step\n",
            "Epoch 53/100\n",
            "15/15 - 0s - loss: 32.9167 - val_loss: 43.2407 - 71ms/epoch - 5ms/step\n",
            "Epoch 54/100\n",
            "15/15 - 0s - loss: 32.7622 - val_loss: 42.9376 - 79ms/epoch - 5ms/step\n",
            "Epoch 55/100\n",
            "15/15 - 0s - loss: 32.4935 - val_loss: 42.5604 - 54ms/epoch - 4ms/step\n",
            "Epoch 56/100\n",
            "15/15 - 0s - loss: 32.2385 - val_loss: 42.5746 - 69ms/epoch - 5ms/step\n",
            "Epoch 57/100\n",
            "15/15 - 0s - loss: 31.9355 - val_loss: 42.4391 - 51ms/epoch - 3ms/step\n",
            "Epoch 58/100\n",
            "15/15 - 0s - loss: 31.6397 - val_loss: 41.7216 - 51ms/epoch - 3ms/step\n",
            "Epoch 59/100\n",
            "15/15 - 0s - loss: 31.4821 - val_loss: 41.6162 - 69ms/epoch - 5ms/step\n",
            "Epoch 60/100\n",
            "15/15 - 0s - loss: 31.2713 - val_loss: 41.1329 - 53ms/epoch - 4ms/step\n",
            "Epoch 61/100\n",
            "15/15 - 0s - loss: 30.9970 - val_loss: 41.0493 - 50ms/epoch - 3ms/step\n",
            "Epoch 62/100\n",
            "15/15 - 0s - loss: 30.7433 - val_loss: 40.8752 - 60ms/epoch - 4ms/step\n",
            "Epoch 63/100\n",
            "15/15 - 0s - loss: 30.4796 - val_loss: 40.6471 - 50ms/epoch - 3ms/step\n",
            "Epoch 64/100\n",
            "15/15 - 0s - loss: 30.3260 - val_loss: 40.2379 - 71ms/epoch - 5ms/step\n",
            "Epoch 65/100\n",
            "15/15 - 0s - loss: 29.9455 - val_loss: 39.8687 - 52ms/epoch - 3ms/step\n",
            "Epoch 66/100\n",
            "15/15 - 0s - loss: 29.7836 - val_loss: 39.5066 - 51ms/epoch - 3ms/step\n",
            "Epoch 67/100\n",
            "15/15 - 0s - loss: 29.5201 - val_loss: 39.3486 - 66ms/epoch - 4ms/step\n",
            "Epoch 68/100\n",
            "15/15 - 0s - loss: 29.3219 - val_loss: 38.8469 - 68ms/epoch - 5ms/step\n",
            "Epoch 69/100\n",
            "15/15 - 0s - loss: 29.0943 - val_loss: 39.0039 - 68ms/epoch - 5ms/step\n",
            "Epoch 70/100\n",
            "15/15 - 0s - loss: 28.7785 - val_loss: 38.3572 - 68ms/epoch - 5ms/step\n",
            "Epoch 71/100\n",
            "15/15 - 0s - loss: 28.5851 - val_loss: 37.8518 - 50ms/epoch - 3ms/step\n",
            "Epoch 72/100\n",
            "15/15 - 0s - loss: 28.3708 - val_loss: 37.8691 - 69ms/epoch - 5ms/step\n",
            "Epoch 73/100\n",
            "15/15 - 0s - loss: 28.0446 - val_loss: 37.5754 - 50ms/epoch - 3ms/step\n",
            "Epoch 74/100\n",
            "15/15 - 0s - loss: 27.9860 - val_loss: 36.8083 - 49ms/epoch - 3ms/step\n",
            "Epoch 75/100\n",
            "15/15 - 0s - loss: 27.6173 - val_loss: 37.1155 - 65ms/epoch - 4ms/step\n",
            "Epoch 76/100\n",
            "15/15 - 0s - loss: 27.5328 - val_loss: 36.5892 - 73ms/epoch - 5ms/step\n",
            "Epoch 77/100\n",
            "15/15 - 0s - loss: 27.0909 - val_loss: 36.5149 - 52ms/epoch - 3ms/step\n",
            "Epoch 78/100\n",
            "15/15 - 0s - loss: 26.8727 - val_loss: 35.9112 - 72ms/epoch - 5ms/step\n",
            "Epoch 79/100\n",
            "15/15 - 0s - loss: 26.6363 - val_loss: 35.7551 - 69ms/epoch - 5ms/step\n",
            "Epoch 80/100\n",
            "15/15 - 0s - loss: 26.3720 - val_loss: 35.3735 - 53ms/epoch - 4ms/step\n",
            "Epoch 81/100\n",
            "15/15 - 0s - loss: 26.1770 - val_loss: 35.0991 - 55ms/epoch - 4ms/step\n",
            "Epoch 82/100\n",
            "15/15 - 0s - loss: 26.0283 - val_loss: 34.7166 - 51ms/epoch - 3ms/step\n",
            "Epoch 83/100\n",
            "15/15 - 0s - loss: 25.7515 - val_loss: 34.5836 - 52ms/epoch - 3ms/step\n",
            "Epoch 84/100\n",
            "15/15 - 0s - loss: 25.4617 - val_loss: 34.2498 - 66ms/epoch - 4ms/step\n",
            "Epoch 85/100\n",
            "15/15 - 0s - loss: 25.2260 - val_loss: 33.8527 - 52ms/epoch - 3ms/step\n",
            "Epoch 86/100\n",
            "15/15 - 0s - loss: 25.0631 - val_loss: 33.3349 - 59ms/epoch - 4ms/step\n",
            "Epoch 87/100\n",
            "15/15 - 0s - loss: 24.7383 - val_loss: 33.2669 - 72ms/epoch - 5ms/step\n",
            "Epoch 88/100\n",
            "15/15 - 0s - loss: 24.5591 - val_loss: 32.9856 - 68ms/epoch - 5ms/step\n",
            "Epoch 89/100\n",
            "15/15 - 0s - loss: 24.2539 - val_loss: 32.5530 - 51ms/epoch - 3ms/step\n",
            "Epoch 90/100\n",
            "15/15 - 0s - loss: 24.0673 - val_loss: 32.3046 - 52ms/epoch - 3ms/step\n",
            "Epoch 91/100\n",
            "15/15 - 0s - loss: 23.8837 - val_loss: 31.8796 - 72ms/epoch - 5ms/step\n",
            "Epoch 92/100\n",
            "15/15 - 0s - loss: 23.5845 - val_loss: 31.5421 - 69ms/epoch - 5ms/step\n",
            "Epoch 93/100\n",
            "15/15 - 0s - loss: 23.3618 - val_loss: 31.3324 - 51ms/epoch - 3ms/step\n",
            "Epoch 94/100\n",
            "15/15 - 0s - loss: 23.0844 - val_loss: 31.1049 - 68ms/epoch - 5ms/step\n",
            "Epoch 95/100\n",
            "15/15 - 0s - loss: 22.8086 - val_loss: 30.5764 - 72ms/epoch - 5ms/step\n",
            "Epoch 96/100\n",
            "15/15 - 0s - loss: 22.6580 - val_loss: 30.3992 - 70ms/epoch - 5ms/step\n",
            "Epoch 97/100\n",
            "15/15 - 0s - loss: 22.3576 - val_loss: 30.3239 - 50ms/epoch - 3ms/step\n",
            "Epoch 98/100\n",
            "15/15 - 0s - loss: 22.1538 - val_loss: 29.5807 - 54ms/epoch - 4ms/step\n",
            "Epoch 99/100\n",
            "15/15 - 0s - loss: 21.8914 - val_loss: 29.5109 - 54ms/epoch - 4ms/step\n",
            "Epoch 100/100\n",
            "15/15 - 0s - loss: 21.6718 - val_loss: 29.0073 - 53ms/epoch - 4ms/step\n"
          ]
        },
        {
          "output_type": "execute_result",
          "data": {
            "text/plain": [
              "<keras.src.callbacks.History at 0x7fa84895cee0>"
            ]
          },
          "metadata": {},
          "execution_count": 29
        }
      ]
    },
    {
      "cell_type": "code",
      "source": [
        "model.evaluate(x_train,y_train)"
      ],
      "metadata": {
        "colab": {
          "base_uri": "https://localhost:8080/"
        },
        "id": "A_hsInrgbdcV",
        "outputId": "1dba54d3-2aa7-45e7-cb7e-1ab0f6fca796"
      },
      "execution_count": 31,
      "outputs": [
        {
          "output_type": "stream",
          "name": "stdout",
          "text": [
            "25/25 [==============================] - 0s 1ms/step - loss: 22.1754\n"
          ]
        },
        {
          "output_type": "execute_result",
          "data": {
            "text/plain": [
              "22.175376892089844"
            ]
          },
          "metadata": {},
          "execution_count": 31
        }
      ]
    },
    {
      "cell_type": "code",
      "source": [
        "model.evaluate(x_test,y_test) # if our model wokes well the losse must be near last cell around 22"
      ],
      "metadata": {
        "colab": {
          "base_uri": "https://localhost:8080/"
        },
        "id": "SojBzEw2cHym",
        "outputId": "f9fdb163-737a-46b4-e917-f9ef8d20d04e"
      },
      "execution_count": 34,
      "outputs": [
        {
          "output_type": "stream",
          "name": "stdout",
          "text": [
            "7/7 [==============================] - 0s 2ms/step - loss: 25.7061\n"
          ]
        },
        {
          "output_type": "execute_result",
          "data": {
            "text/plain": [
              "25.70608139038086"
            ]
          },
          "metadata": {},
          "execution_count": 34
        }
      ]
    },
    {
      "cell_type": "code",
      "source": [
        "y_pred=model.predict(x_test)"
      ],
      "metadata": {
        "colab": {
          "base_uri": "https://localhost:8080/"
        },
        "id": "M8z7DgE9cXoj",
        "outputId": "4f9a68e0-2a52-48e2-a67e-24c77be9a63a"
      },
      "execution_count": 35,
      "outputs": [
        {
          "output_type": "stream",
          "name": "stdout",
          "text": [
            "7/7 [==============================] - 0s 2ms/step\n"
          ]
        }
      ]
    },
    {
      "cell_type": "code",
      "source": [
        "print(y_pred.shape)\n",
        "y_test.shape\n"
      ],
      "metadata": {
        "colab": {
          "base_uri": "https://localhost:8080/"
        },
        "id": "Xi6J1MCIdBHA",
        "outputId": "aec62044-224b-4d82-db55-e07b1787bd03"
      },
      "execution_count": 37,
      "outputs": [
        {
          "output_type": "stream",
          "name": "stdout",
          "text": [
            "(200, 1)\n"
          ]
        },
        {
          "output_type": "execute_result",
          "data": {
            "text/plain": [
              "(200,)"
            ]
          },
          "metadata": {},
          "execution_count": 37
        }
      ]
    },
    {
      "cell_type": "code",
      "source": [
        "plt.scatter(y_pred,range(200),color='red')\n",
        "plt.scatter(y_test,range(200),color='green')"
      ],
      "metadata": {
        "colab": {
          "base_uri": "https://localhost:8080/",
          "height": 448
        },
        "id": "FRWCBFsWdJcm",
        "outputId": "4e79baa1-d8be-45ee-e86b-eda1c8bc66e9"
      },
      "execution_count": 40,
      "outputs": [
        {
          "output_type": "execute_result",
          "data": {
            "text/plain": [
              "<matplotlib.collections.PathCollection at 0x7fa84892d6c0>"
            ]
          },
          "metadata": {},
          "execution_count": 40
        },
        {
          "output_type": "display_data",
          "data": {
            "text/plain": [
              "<Figure size 640x480 with 1 Axes>"
            ],
            "image/png": "[encoded data removed]"
          },
          "metadata": {}
        }
      ]
    },
    {
      "cell_type": "code",
      "source": [],
      "metadata": {
        "id": "yKxsG-u3dfIq"
      },
      "execution_count": null,
      "outputs": []
    }
  ]
}